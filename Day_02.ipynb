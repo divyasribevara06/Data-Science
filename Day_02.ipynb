{
  "nbformat": 4,
  "nbformat_minor": 0,
  "metadata": {
    "colab": {
      "provenance": [],
      "authorship_tag": "ABX9TyOnEuPx+bIRhrNj6/0bXRYa",
      "include_colab_link": true
    },
    "kernelspec": {
      "name": "python3",
      "display_name": "Python 3"
    },
    "language_info": {
      "name": "python"
    }
  },
  "cells": [
    {
      "cell_type": "markdown",
      "metadata": {
        "id": "view-in-github",
        "colab_type": "text"
      },
      "source": [
        "<a href=\"https://colab.research.google.com/github/divyasribevara06/Data-Science/blob/main/Day_02.ipynb\" target=\"_parent\"><img src=\"https://colab.research.google.com/assets/colab-badge.svg\" alt=\"Open In Colab\"/></a>"
      ]
    },
    {
      "cell_type": "markdown",
      "source": [
        "# Day-02 Basics of python"
      ],
      "metadata": {
        "id": "4XIUphhKBpJJ"
      }
    },
    {
      "cell_type": "markdown",
      "source": [
        "* **String:** It is a sequence of characters represented in text. i.e, Alphabets (A-Z)\n",
        "* **Integer:** It is a numerical data type that represents a whole number, where it can be a positice, negative or zero. i.e, (0-9)\n",
        "* **float:** Represents a real number with a decimal point i.e., 3.14.\n",
        "-----------------------------------"
      ],
      "metadata": {
        "id": "Lu44c24rCoDy"
      }
    },
    {
      "cell_type": "markdown",
      "source": [
        "## **Printing:** \n",
        "* ##### In order to print a message or the data we put the message inside the parentheses().\n",
        "\n",
        "* **Note:** In print function in order to print a string we must use quotes inside the parentheses.\n",
        "* In a print function always takes an argument where it can be a string/integer/variable.\n",
        "* A **variable** is a name given to a memory location that stores a value, in simple words it is a container.\n"
      ],
      "metadata": {
        "id": "8Q1tPmbIB6Ku"
      }
    },
    {
      "cell_type": "code",
      "source": [
        "print(\"Hello World\")\n",
        "# here Hello World is an string datatype henceforth we use quotations."
      ],
      "metadata": {
        "colab": {
          "base_uri": "https://localhost:8080/",
          "height": 0
        },
        "id": "9ghzxF1RB4JK",
        "outputId": "0352fdf0-ef1b-430c-a3d1-e1a950394384"
      },
      "execution_count": 1,
      "outputs": [
        {
          "output_type": "stream",
          "name": "stdout",
          "text": [
            "Hello World\n"
          ]
        }
      ]
    },
    {
      "cell_type": "code",
      "source": [
        "# Instead of using print(\"Hello World\") we can also try this as follows:\n",
        "\"Hello World\""
      ],
      "metadata": {
        "colab": {
          "base_uri": "https://localhost:8080/",
          "height": 36
        },
        "id": "rS42qPQNKBzT",
        "outputId": "ccfb8693-bd4b-4a66-98d1-856f8cf43ea1"
      },
      "execution_count": 7,
      "outputs": [
        {
          "output_type": "execute_result",
          "data": {
            "text/plain": [
              "'Hello World'"
            ],
            "application/vnd.google.colaboratory.intrinsic+json": {
              "type": "string"
            }
          },
          "metadata": {},
          "execution_count": 7
        }
      ]
    },
    {
      "cell_type": "code",
      "source": [
        "# What will be the output?\n",
        "\"Hey\"\n",
        "\"How are u?\"\n",
        "\"Have a good day\""
      ],
      "metadata": {
        "colab": {
          "base_uri": "https://localhost:8080/",
          "height": 36
        },
        "id": "dDpbX554KSDU",
        "outputId": "517be6af-60dc-45bb-84c1-4a26722f1e2b"
      },
      "execution_count": 12,
      "outputs": [
        {
          "output_type": "execute_result",
          "data": {
            "text/plain": [
              "'Have a good day'"
            ],
            "application/vnd.google.colaboratory.intrinsic+json": {
              "type": "string"
            }
          },
          "metadata": {},
          "execution_count": 12
        }
      ]
    },
    {
      "cell_type": "markdown",
      "source": [
        "* In above case the output will be'Have a good day' because interpreter result of the last expression is automatically displayed, even if the print() function is not used. This behavior is known as \"implicit printing\".\n",
        "\n",
        "* Let us see another example for implicit printing:"
      ],
      "metadata": {
        "id": "fnw-akyFLB9p"
      }
    },
    {
      "cell_type": "code",
      "source": [
        "# Case1:\n",
        "a = \"hi\"\n",
        "b = \"hello\"\n",
        "c = \"Hey\"\n",
        "\n",
        "c\n",
        "b\n",
        "a"
      ],
      "metadata": {
        "colab": {
          "base_uri": "https://localhost:8080/",
          "height": 36
        },
        "id": "kAuplTxEMU4I",
        "outputId": "b6a0d9a2-3fb6-45b4-ff7f-e4b8ad47939e"
      },
      "execution_count": 13,
      "outputs": [
        {
          "output_type": "execute_result",
          "data": {
            "text/plain": [
              "'hi'"
            ],
            "application/vnd.google.colaboratory.intrinsic+json": {
              "type": "string"
            }
          },
          "metadata": {},
          "execution_count": 13
        }
      ]
    },
    {
      "cell_type": "code",
      "source": [
        "# Case2:\n",
        "a = \"hi\"\n",
        "b = \"hello\"\n",
        "c = \"Hey\"\n",
        "\n",
        "c\n",
        "a\n",
        "b"
      ],
      "metadata": {
        "colab": {
          "base_uri": "https://localhost:8080/",
          "height": 36
        },
        "id": "kzsLZ7nQM9Df",
        "outputId": "d309f8aa-7b30-4609-9fe7-01defa22ed1e"
      },
      "execution_count": 14,
      "outputs": [
        {
          "output_type": "execute_result",
          "data": {
            "text/plain": [
              "'hello'"
            ],
            "application/vnd.google.colaboratory.intrinsic+json": {
              "type": "string"
            }
          },
          "metadata": {},
          "execution_count": 14
        }
      ]
    },
    {
      "cell_type": "code",
      "source": [
        "# Case3:\n",
        "a = \"hi\"\n",
        "b = \"hello\"\n",
        "c = \"Hey\"\n",
        "\n",
        "a\n",
        "b\n",
        "c"
      ],
      "metadata": {
        "colab": {
          "base_uri": "https://localhost:8080/",
          "height": 36
        },
        "id": "QhUtNDIPM9QB",
        "outputId": "43e9f418-6fe5-4a44-b712-d3e77c9d495b"
      },
      "execution_count": 15,
      "outputs": [
        {
          "output_type": "execute_result",
          "data": {
            "text/plain": [
              "'Hey'"
            ],
            "application/vnd.google.colaboratory.intrinsic+json": {
              "type": "string"
            }
          },
          "metadata": {},
          "execution_count": 15
        }
      ]
    },
    {
      "cell_type": "markdown",
      "source": [
        "* Let us execute print function to print a string without using double quotes"
      ],
      "metadata": {
        "id": "0pV6OiVEGeY4"
      }
    },
    {
      "cell_type": "code",
      "source": [
        " print(hello world)\n",
        "# let us understand...the print function takes the argument Hello world and checks in the background wheather the arugment belongs to integer or string etc!. \n",
        "# When the interpreter executes it checks that their is quotation or not as their is no quotes it will fall under the integer. \n",
        "# when it reads the first letter the interpreter gets confuse that \"h\" in hello world is not an integer henceforth it raises an error.*/"
      ],
      "metadata": {
        "colab": {
          "base_uri": "https://localhost:8080/",
          "height": 134
        },
        "id": "fLHvjrX_Gc7h",
        "outputId": "89137f03-5b83-4694-de74-573855f08880"
      },
      "execution_count": 2,
      "outputs": [
        {
          "output_type": "error",
          "ename": "SyntaxError",
          "evalue": "ignored",
          "traceback": [
            "\u001b[0;36m  File \u001b[0;32m\"<ipython-input-2-e235a0eb1a07>\"\u001b[0;36m, line \u001b[0;32m1\u001b[0m\n\u001b[0;31m    print(hello world)\u001b[0m\n\u001b[0m                ^\u001b[0m\n\u001b[0;31mSyntaxError\u001b[0m\u001b[0;31m:\u001b[0m invalid syntax\n"
          ]
        }
      ]
    },
    {
      "cell_type": "code",
      "source": [
        "print(10)\n",
        "# Here 10 is an integer hence we need not use quotations."
      ],
      "metadata": {
        "colab": {
          "base_uri": "https://localhost:8080/",
          "height": 0
        },
        "id": "zic3YMcVG7kA",
        "outputId": "be03fb6a-aa1a-4950-86de-fe178b745363"
      },
      "execution_count": 3,
      "outputs": [
        {
          "output_type": "stream",
          "name": "stdout",
          "text": [
            "10\n"
          ]
        }
      ]
    },
    {
      "cell_type": "markdown",
      "source": [
        "# Understanding Variable\n",
        "* In a varible we can store any type of data.\n",
        "* By using variable we can reduce the complexity of the code by recalling when ever we want.\n",
        "* used in computations and decision-making statements.\n",
        "* **Note:** Here computation refers to the process of solving a problem or performing a set of instructions by a computer. It involves the use of algorithms and data structures to manipulate and process information, resulting in a solution or output."
      ],
      "metadata": {
        "id": "OkYov5HyDNOw"
      }
    },
    {
      "cell_type": "markdown",
      "source": [
        "# few rules to follow when naming variables:\n",
        "1. Variable names can only contain letters, numbers, and underscores. They cannot start with a number.\n",
        "2. Variable names should start with a letter or an underscore. It is a common convention to start variable names with a lowercase letter.\n",
        "3. Variable names cannot be one of the Python keywords, such as if, else, while, for, etc.\n",
        "4. Variable names can be of any length, but it is recommended to keep them short and to the point.\n",
        "5. Python is case-sensitive, so myVariable and myvariable are treated as two different variables.\n",
        "6. You cannot use special characters with the variable names, such as @,!,#,$, etc."
      ],
      "metadata": {
        "id": "gI3yzH-wgiYF"
      }
    },
    {
      "cell_type": "code",
      "source": [
        "var = \"Hi, Have a nice day!\"\n",
        "print(var)"
      ],
      "metadata": {
        "colab": {
          "base_uri": "https://localhost:8080/",
          "height": 0
        },
        "id": "jYV1yXcjLnCY",
        "outputId": "b37d88c5-b462-4854-897e-172ee475ee8f"
      },
      "execution_count": 4,
      "outputs": [
        {
          "output_type": "stream",
          "name": "stdout",
          "text": [
            "Hi, Have a nice day!\n"
          ]
        }
      ]
    },
    {
      "cell_type": "markdown",
      "source": [
        "# Comments:\n",
        "* A comment is a piece of text within the code that is ignored by the compiler or interpreter. \n",
        "* It is used to add explanations and annotations to the code for other programmers (or for oneself) to understand the logic, functionality or purpose of certain sections of the code."
      ],
      "metadata": {
        "id": "kVecgJ5iGY_H"
      }
    },
    {
      "cell_type": "markdown",
      "source": [
        "# Arithmetic operations:\n",
        "1. \"+\" - Addition\n",
        "2. \"-\" - Subtraction\n",
        "3. \"*\" - Multiplication\n",
        "4. \"/\" - Division\n",
        "5. \"%\" - Modulus\n",
        "6. \"**\" or \"^\" - Power\n",
        "7. \"//\" - Floor Divison"
      ],
      "metadata": {
        "id": "4166Q9D_ICA1"
      }
    },
    {
      "cell_type": "code",
      "source": [
        "2 + 3"
      ],
      "metadata": {
        "colab": {
          "base_uri": "https://localhost:8080/",
          "height": 0
        },
        "id": "vp0iTDPMLnNA",
        "outputId": "787566c2-f64f-4e8e-c920-360e66863638"
      },
      "execution_count": 16,
      "outputs": [
        {
          "output_type": "execute_result",
          "data": {
            "text/plain": [
              "5"
            ]
          },
          "metadata": {},
          "execution_count": 16
        }
      ]
    },
    {
      "cell_type": "code",
      "source": [
        "print(2 + 3)"
      ],
      "metadata": {
        "colab": {
          "base_uri": "https://localhost:8080/",
          "height": 0
        },
        "id": "OUxLQL9pLnWP",
        "outputId": "a8d57faa-783e-4af0-8076-5da07c4fc8fb"
      },
      "execution_count": 32,
      "outputs": [
        {
          "output_type": "stream",
          "name": "stdout",
          "text": [
            "5\n"
          ]
        }
      ]
    },
    {
      "cell_type": "code",
      "source": [
        "print ( 3 - 2)"
      ],
      "metadata": {
        "colab": {
          "base_uri": "https://localhost:8080/",
          "height": 0
        },
        "id": "WjfJtar6TeXV",
        "outputId": "84e03533-3775-45af-f6bb-b498a9fdd7a0"
      },
      "execution_count": 33,
      "outputs": [
        {
          "output_type": "stream",
          "name": "stdout",
          "text": [
            "1\n"
          ]
        }
      ]
    },
    {
      "cell_type": "code",
      "source": [
        "print (5 * 2)"
      ],
      "metadata": {
        "colab": {
          "base_uri": "https://localhost:8080/",
          "height": 0
        },
        "id": "ZAPoGocaTvss",
        "outputId": "cadb4001-e7c4-4d06-fb89-c2b029a1210d"
      },
      "execution_count": 34,
      "outputs": [
        {
          "output_type": "stream",
          "name": "stdout",
          "text": [
            "10\n"
          ]
        }
      ]
    },
    {
      "cell_type": "code",
      "source": [
        "print(10/ 2)"
      ],
      "metadata": {
        "colab": {
          "base_uri": "https://localhost:8080/",
          "height": 0
        },
        "id": "OlbmG0zVTv7c",
        "outputId": "c2e57e39-9d93-4986-ec53-5cda870ecb9f"
      },
      "execution_count": 35,
      "outputs": [
        {
          "output_type": "stream",
          "name": "stdout",
          "text": [
            "5.0\n"
          ]
        }
      ]
    },
    {
      "cell_type": "code",
      "source": [
        "print(10//2)"
      ],
      "metadata": {
        "colab": {
          "base_uri": "https://localhost:8080/",
          "height": 0
        },
        "id": "zdxZ5YrBV363",
        "outputId": "3d728451-0da5-4025-9799-6fed22e0b291"
      },
      "execution_count": 36,
      "outputs": [
        {
          "output_type": "stream",
          "name": "stdout",
          "text": [
            "5\n"
          ]
        }
      ]
    },
    {
      "cell_type": "code",
      "source": [
        "print(10 % 3)"
      ],
      "metadata": {
        "colab": {
          "base_uri": "https://localhost:8080/",
          "height": 0
        },
        "id": "nXtAxdh9V4OO",
        "outputId": "9dbb1f0b-16ec-4695-97d5-6c61f7f3ac0f"
      },
      "execution_count": 37,
      "outputs": [
        {
          "output_type": "stream",
          "name": "stdout",
          "text": [
            "1\n"
          ]
        }
      ]
    },
    {
      "cell_type": "code",
      "source": [
        "print(2 ** 2)"
      ],
      "metadata": {
        "colab": {
          "base_uri": "https://localhost:8080/",
          "height": 0
        },
        "id": "YCMZBAVUV4YN",
        "outputId": "6f7568d5-1314-464b-b4a8-fa5e6765f92c"
      },
      "execution_count": 38,
      "outputs": [
        {
          "output_type": "stream",
          "name": "stdout",
          "text": [
            "4\n"
          ]
        }
      ]
    },
    {
      "cell_type": "code",
      "source": [
        "print( 2 ^ 2)"
      ],
      "metadata": {
        "colab": {
          "base_uri": "https://localhost:8080/",
          "height": 0
        },
        "id": "tfgbvdkvV4g3",
        "outputId": "a41ace9f-6f8d-4690-f882-a5158094a8f7"
      },
      "execution_count": 39,
      "outputs": [
        {
          "output_type": "stream",
          "name": "stdout",
          "text": [
            "0\n"
          ]
        }
      ]
    },
    {
      "cell_type": "markdown",
      "source": [
        "* The caret symbol (^) in Python represents the bitwise XOR operator, not exponentiation. Bitwise XOR returns 1 if exactly one of the bits is 1 and returns 0 if both bits are the same.\n",
        "* In binary representation, 2 is 10, and 2 is also 10. When these two binary numbers are XORed, the result is 00, or 0 in decimal representation.\n",
        "\n",
        " 10 (2) ^ 10 (2) =  00 (0)\n"
      ],
      "metadata": {
        "id": "gdU6hHCLTB0c"
      }
    },
    {
      "cell_type": "markdown",
      "source": [
        "# Concatination:\n",
        "* It is the process of combining two or more strings into a single string."
      ],
      "metadata": {
        "id": "qydaFHfTY2jP"
      }
    },
    {
      "cell_type": "code",
      "source": [
        "# note: as we stated with it quotes it is a string not an integer.\n",
        "\"7\" + \"8\""
      ],
      "metadata": {
        "colab": {
          "base_uri": "https://localhost:8080/",
          "height": 36
        },
        "id": "Lggc-2lRStIv",
        "outputId": "631681f3-ea4c-4191-9438-5575c1539362"
      },
      "execution_count": 18,
      "outputs": [
        {
          "output_type": "execute_result",
          "data": {
            "text/plain": [
              "'78'"
            ],
            "application/vnd.google.colaboratory.intrinsic+json": {
              "type": "string"
            }
          },
          "metadata": {},
          "execution_count": 18
        }
      ]
    },
    {
      "cell_type": "code",
      "source": [
        "\"Hey \" + \"Divya!\""
      ],
      "metadata": {
        "colab": {
          "base_uri": "https://localhost:8080/",
          "height": 36
        },
        "id": "2zbZQyW1SuqE",
        "outputId": "d11d4be4-a8e2-4494-8b64-600b139a95cf"
      },
      "execution_count": 41,
      "outputs": [
        {
          "output_type": "execute_result",
          "data": {
            "text/plain": [
              "'Hey Divya!'"
            ],
            "application/vnd.google.colaboratory.intrinsic+json": {
              "type": "string"
            }
          },
          "metadata": {},
          "execution_count": 41
        }
      ]
    },
    {
      "cell_type": "code",
      "source": [
        "# the code below is executed in two ways\n",
        "# case1: we used 2 variables i.e., var1 and var2 in print function we concatinated the variable.\n",
        "# case2: we used 3 variables where in variable 3 i.e., in var3 we concatinated var1 and var2 and stored in var3 --> through print function we printed the output.\n",
        "var1 = \"Hey..\"\n",
        "var2 = \"How are u?\"\n",
        "var3 = (var1 + var2)\n",
        "print(var1 + var2)\n",
        "print(var3)"
      ],
      "metadata": {
        "colab": {
          "base_uri": "https://localhost:8080/",
          "height": 0
        },
        "id": "9sdM72n6Su1i",
        "outputId": "34d5cf47-01f6-405e-e8bd-cf4e1ab3ef9a"
      },
      "execution_count": 46,
      "outputs": [
        {
          "output_type": "stream",
          "name": "stdout",
          "text": [
            "Hey..How are u?\n",
            "Hey..How are u?\n"
          ]
        }
      ]
    },
    {
      "cell_type": "markdown",
      "source": [
        "# type function: \n",
        "* It is a built-in function that returns the data type of an object. \n",
        "* Data types are classified into 3 i.e., int,float,str\n",
        "* **Syntax:** type()"
      ],
      "metadata": {
        "id": "HPJAXPfxdBpi"
      }
    },
    {
      "cell_type": "code",
      "source": [
        "a = 5\n",
        "b = 5.0\n",
        "c = \"Hi\"\n",
        "d = \"06\"\n",
        "print(type(a))\n",
        "print(type(b))\n",
        "print(type(c))\n",
        "print(type(d))\n"
      ],
      "metadata": {
        "colab": {
          "base_uri": "https://localhost:8080/",
          "height": 0
        },
        "id": "KizYQEfrSu_G",
        "outputId": "0097479c-6aed-4951-ba4f-c778a3998cf4"
      },
      "execution_count": 50,
      "outputs": [
        {
          "output_type": "stream",
          "name": "stdout",
          "text": [
            "<class 'int'>\n",
            "<class 'float'>\n",
            "<class 'str'>\n",
            "<class 'str'>\n"
          ]
        }
      ]
    },
    {
      "cell_type": "markdown",
      "source": [
        "# Assigment operator:\n",
        "* In Python, there are several assignment operators that allow you to assign values to variables:\n",
        "\n",
        "1. = : The most basic assignment operator, which assigns the value on the right to the variable on the left. \n",
        "* x = 10\n",
        "\n",
        "2. +=: Adds the value on the right to the value stored in the variable on the left and assigns the result to the same variable. \n",
        "* x += 10 is the same as x = x + 10\n",
        "\n",
        "3. -=: Subtracts the value on the right from the value stored in the variable on the left and assigns the result to the same variable. \n",
        "* x -= 10 is the same as x = x - 10\n",
        "\n",
        "4. *=: Multiplies the value stored in the variable on the left by the value on the right and assigns the result to the same variable. \n",
        "* x *= 10 is the same as x = x * 10\n",
        "\n",
        "5. /=: Divides the value stored in the variable on the left by the value on the right and assigns the result to the same variable. \n",
        "* x /= 10 is the same as x = x / 10\n",
        "\n",
        "6. //=: Divides the value stored in the variable on the left by the value on the right and assigns the result as an integer to the same variable. \n",
        "* x //= 10 is the same as x = x // 10\n",
        "\n",
        "7. %=: Calculates the remainder of the division of the value stored in the variable on the left by the value on the right and assigns the result to the same variable. \n",
        "* x %= 10 is the same as x = x % 10\n",
        "\n",
        "8. **= : Raises the value stored in the variable on the left to the power of the value on the right and assigns the result to the same variable. \n",
        " \n",
        "* x ** = 10 is the same as x = x ** 10."
      ],
      "metadata": {
        "id": "66QkIeMX8Wzm"
      }
    },
    {
      "cell_type": "code",
      "source": [
        "# example for assigment operator:\n",
        "# assign operatior\n",
        "x = 5\n",
        "a = 17\n",
        "b = 4\n",
        "c = 8\n",
        "d = 2\n",
        "e = 21\n",
        "f = 10\n",
        "print(x)\n",
        "x += 10\n",
        "print(x)\n",
        "x = x+10\n",
        "print(x)\n",
        "x -= 10\n",
        "print(a)\n",
        "x = x-10\n",
        "print(a)\n",
        "x *= 10\n",
        "print(b)\n",
        "x = x*10\n",
        "print(b)\n",
        "x /= 10\n",
        "print(c)\n",
        "x = x/10\n",
        "print(c)\n",
        "x //= 10\n",
        "print(d)\n",
        "x = x//10\n",
        "print(d)\n",
        "x %= 10\n",
        "print(e)\n",
        "x = x%10\n",
        "print(e)\n",
        "x **= 10\n",
        "print(f)\n",
        "x = x **10\n",
        "print(f)\n"
      ],
      "metadata": {
        "colab": {
          "base_uri": "https://localhost:8080/",
          "height": 0
        },
        "id": "zt5XtozgBJjR",
        "outputId": "e4b00d30-f95c-415d-a612-69ab8050f2d1"
      },
      "execution_count": 60,
      "outputs": [
        {
          "output_type": "stream",
          "name": "stdout",
          "text": [
            "5\n",
            "15\n",
            "25\n",
            "17\n",
            "17\n",
            "4\n",
            "4\n",
            "8\n",
            "8\n",
            "2\n",
            "2\n",
            "21\n",
            "21\n",
            "10\n",
            "10\n"
          ]
        }
      ]
    },
    {
      "cell_type": "markdown",
      "source": [
        "# Boolean Operators:\n",
        "In Python, there are several boolean operators that allow you to perform operations on boolean values (i.e., values that are either True or False):\n",
        "\n",
        "* **and:** Returns True if both operands are True, and False otherwise.\n",
        "\n",
        "* **or:** Returns True if either operand is True, and False otherwise.\n",
        "\n",
        "* **not:** Returns the negation of a boolean value, i.e., True if the operand is False, and False if the operand is True.\n",
        "\n",
        "* **==:** Compares two values and returns True if they are equal, and False otherwise.\n",
        "\n",
        "* **!=:** Compares two values and returns True if they are not equal, and False otherwise.\n",
        "\n",
        "* **<:** Returns True if the value on the left is less than the value on the right, and False otherwise.\n",
        "\n",
        "* **>:** Returns True if the value on the left is greater than the value on the right, and False otherwise.\n",
        "\n",
        "* **<=:** Returns True if the value on the left is less than or equal to the value on the right, and False otherwise.\n",
        "\n",
        "* **>=:** Returns True if the value on the left is greater than or equal to the value on the right, and False otherwise."
      ],
      "metadata": {
        "id": "0O8Pdml1A5uC"
      }
    },
    {
      "cell_type": "code",
      "source": [
        "a = 5 \n",
        "b = 10\n",
        "a == b"
      ],
      "metadata": {
        "colab": {
          "base_uri": "https://localhost:8080/",
          "height": 0
        },
        "id": "CHXyGlFzE3JZ",
        "outputId": "243a447b-a990-49bc-f73e-bdbe47d23385"
      },
      "execution_count": 61,
      "outputs": [
        {
          "output_type": "execute_result",
          "data": {
            "text/plain": [
              "False"
            ]
          },
          "metadata": {},
          "execution_count": 61
        }
      ]
    },
    {
      "cell_type": "code",
      "source": [
        "# \"==\" can also be written as \"is\"\n",
        "a is b"
      ],
      "metadata": {
        "colab": {
          "base_uri": "https://localhost:8080/",
          "height": 0
        },
        "id": "bPJOR1khI4Gr",
        "outputId": "1d21220d-1951-4fc7-abb9-ea15216e9b87"
      },
      "execution_count": 69,
      "outputs": [
        {
          "output_type": "execute_result",
          "data": {
            "text/plain": [
              "False"
            ]
          },
          "metadata": {},
          "execution_count": 69
        }
      ]
    },
    {
      "cell_type": "code",
      "source": [
        "a != b"
      ],
      "metadata": {
        "colab": {
          "base_uri": "https://localhost:8080/",
          "height": 0
        },
        "id": "Cc7WFHtjFUR2",
        "outputId": "2272cf38-9546-40d1-98da-7c96f4928413"
      },
      "execution_count": 62,
      "outputs": [
        {
          "output_type": "execute_result",
          "data": {
            "text/plain": [
              "True"
            ]
          },
          "metadata": {},
          "execution_count": 62
        }
      ]
    },
    {
      "cell_type": "code",
      "source": [
        "# \"!=\" can also be written as \"is not\"\n",
        "a is not b"
      ],
      "metadata": {
        "colab": {
          "base_uri": "https://localhost:8080/",
          "height": 0
        },
        "id": "rGeWJTytJSOE",
        "outputId": "a45bc4aa-1427-4f5e-ee60-1e0b737a05d0"
      },
      "execution_count": 70,
      "outputs": [
        {
          "output_type": "execute_result",
          "data": {
            "text/plain": [
              "True"
            ]
          },
          "metadata": {},
          "execution_count": 70
        }
      ]
    },
    {
      "cell_type": "code",
      "source": [
        "a < b"
      ],
      "metadata": {
        "colab": {
          "base_uri": "https://localhost:8080/",
          "height": 0
        },
        "id": "oeELd8IgFWuG",
        "outputId": "81e73032-ecf2-40f0-9a7c-73f87af68e55"
      },
      "execution_count": 63,
      "outputs": [
        {
          "output_type": "execute_result",
          "data": {
            "text/plain": [
              "True"
            ]
          },
          "metadata": {},
          "execution_count": 63
        }
      ]
    },
    {
      "cell_type": "code",
      "source": [
        "a > b"
      ],
      "metadata": {
        "colab": {
          "base_uri": "https://localhost:8080/",
          "height": 0
        },
        "id": "7KscGuWqF4LR",
        "outputId": "da2bd467-f1a1-4a81-85e6-f615ce22a43c"
      },
      "execution_count": 64,
      "outputs": [
        {
          "output_type": "execute_result",
          "data": {
            "text/plain": [
              "False"
            ]
          },
          "metadata": {},
          "execution_count": 64
        }
      ]
    },
    {
      "cell_type": "code",
      "source": [
        "c = 5\n",
        "d = 5\n",
        "c <= d"
      ],
      "metadata": {
        "colab": {
          "base_uri": "https://localhost:8080/",
          "height": 0
        },
        "id": "qU8e0EQHF6GK",
        "outputId": "8619446a-a3ea-451e-c35d-df26ea6b9af8"
      },
      "execution_count": 66,
      "outputs": [
        {
          "output_type": "execute_result",
          "data": {
            "text/plain": [
              "True"
            ]
          },
          "metadata": {},
          "execution_count": 66
        }
      ]
    },
    {
      "cell_type": "code",
      "source": [
        "ab = 22\n",
        "bc = 21\n",
        "ab >= bc"
      ],
      "metadata": {
        "colab": {
          "base_uri": "https://localhost:8080/",
          "height": 0
        },
        "id": "ErVq9mh_GHDH",
        "outputId": "f5423148-76b1-4870-f6c7-6cda2aea9e82"
      },
      "execution_count": 68,
      "outputs": [
        {
          "output_type": "execute_result",
          "data": {
            "text/plain": [
              "True"
            ]
          },
          "metadata": {},
          "execution_count": 68
        }
      ]
    }
  ]
}